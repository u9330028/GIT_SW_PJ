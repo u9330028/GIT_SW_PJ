{
  "nbformat": 4,
  "nbformat_minor": 0,
  "metadata": {
    "colab": {
      "name": "2020-봄 인공지능개론 Final Project.ipynb",
      "provenance": [],
      "collapsed_sections": []
    },
    "kernelspec": {
      "name": "python3",
      "display_name": "Python 3"
    }
  },
  "cells": [
    {
      "cell_type": "markdown",
      "metadata": {
        "id": "bFe3K8ezITnb",
        "colab_type": "text"
      },
      "source": [
        "# 인공지능 개론 Final Project\n",
        "\n",
        "## 1. 학생 신체 데이터 분석 **(40 점)**\n",
        "\n",
        "우리나라 학생들의 신체데이터를 다음의 주소에서 다운로드 받을 수 있습니다.\n",
        "https://www.data.go.kr/data/15051017/fileData.do\n",
        "\n",
        "- Task 1. **(10 점)** csv 파일을 다운로드 받고 pandas를 이용하여 불러오기\n",
        "    - Task 1-1. **(5 점)** 데이터 불러오기\n",
        "    - Task 1-2. **(5 점)** 데이터 중에서 키와 몸무게 데이터만 골라내기\n",
        "- Task 2. **(5 점)** 학생들의 평균 키와 평균 몸무게 구하기\n",
        "- Task 3. **(5 점)** 키와 몸무게 사이의 상관관계 (Pearson Correlation Coefficient) 구하기\n",
        "- Task 4. **(15 점)** Linear Regression을 사용하여 키와 몸무게 사이의 선형관계를 찾기 (= 직선의 방정식 구하기: y= wx + b 에서 w와 b값 구하기)\n",
        "    - Task 4-1. **(5 점)** 가설, 비용 설정하기\n",
        "    - Task 4-2. **(10 점)** 경사하강법으로 비용을 최소로 만들도록 학습하기 (torch.optim 사용하지 말고 직접 구현해보기)\n",
        "- Task 5. **(5 점)** Matplotlib을 사용하여 좌표평면상에 입력값(키, 몸무게)과 구한 직선을 그려보기"
      ]
    },
    {
      "cell_type": "code",
      "metadata": {
        "id": "atoo3ZMhIPCp",
        "colab_type": "code",
        "colab": {}
      },
      "source": [
        "# 여기에 [학생 신체 데이터 분석]에 관한 코드를 작성하세요"
      ],
      "execution_count": 0,
      "outputs": []
    },
    {
      "cell_type": "markdown",
      "metadata": {
        "id": "je_7lszZMezX",
        "colab_type": "text"
      },
      "source": [
        "## 2. 추천시스템 **(30 점)**\n",
        "\n",
        "MovieLens 100k 데이터를 학습하여 User와 Movie의 Latent Factor를 계산해보세요.\n",
        "MovieLens 100k 데이터는 다음의 주소에서 다운로드 받을 수 있습니다.\n",
        "https://grouplens.org/datasets/movielens/100k/\n",
        "\n",
        "- Task 1. **(5 점)** 파일을 다운로드 받고 ua.data 파일(학습데이터)과 us.test 파일(검증데이터)의 내용을 pandas를 이용하여 불러오기\n",
        "- Task 2. **(5 점)** item matrix P와 user matrix Q를 생성하여 랜덤한 값으로 초기화 하기\n",
        "- Task 3. **(5 점)** 가설, 비용 설정하기\n",
        "- Task 4. **(5 점)** 비용에 regularization과 bias 적용하기\n",
        "- Task 5. **(5 점)** torch.optim과 backward를 활용하여 학습하기\n",
        "- Task 6. **(5 점)** 학습데이터와 검증데이터에 대해서 각각 RMSE 값 구해서 출력하기 (training RMSE, test RMSE)"
      ]
    },
    {
      "cell_type": "code",
      "metadata": {
        "id": "jjARa1SGMveE",
        "colab_type": "code",
        "colab": {}
      },
      "source": [
        "# 여기에 [추천시스템]에 관한 코드를 작성하세요"
      ],
      "execution_count": 0,
      "outputs": []
    },
    {
      "cell_type": "markdown",
      "metadata": {
        "id": "BD8ZoabfMoXe",
        "colab_type": "text"
      },
      "source": [
        "## 3. FashionMNIST 옷 분류 (Softmax Regression, ANN, DNN, CNN 등 제약 없음) **(30 점)**\n",
        "\n",
        "가능한 모든 방법을 활용하여 가장 좋은 성능을 보이도록 FashionMNIST 데이터셋 분류를 학습해보세요.\n",
        "학습할 땐 training dataset만 사용하여야 하고, test dataset은 성능을 검증할 때만 사용합니다.\n",
        "\n",
        "- Task 1. **(5 점)** torchvision으로부터 FashionMNIST데이터 불러오기\n",
        "- Task 2. **(5 점)** FashionMNIST의 training dataset을 학습하기 (모든 방법 허용)\n",
        "- Task 3. **(5 점)** FashionMNIST의 test dataset을 이용하여 정확도(accuracy) 구하여 출력하기\n",
        "- Test 정확도에 따른 점수 배점\n",
        "    - test accuracy 80% 이상: **(3 점)**\n",
        "    - test accuracy 85% 이상: **(6 점)**\n",
        "    - test accuracy 90% 이상: **(9 점)**\n",
        "    - test accuracy 95% 이상: **(12 점)**\n",
        "    - test accuracy 98% 이상: **(15 점)**"
      ]
    },
    {
      "cell_type": "code",
      "metadata": {
        "id": "VyRC9RLUMyr0",
        "colab_type": "code",
        "colab": {}
      },
      "source": [
        "# 여기에 [FashionMNIST 옷 분류]에 관한 코드를 작성하세요"
      ],
      "execution_count": 0,
      "outputs": []
    }
  ]
}